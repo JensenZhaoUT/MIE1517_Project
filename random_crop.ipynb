{
 "cells": [
  {
   "cell_type": "code",
   "execution_count": 3,
   "metadata": {},
   "outputs": [
    {
     "name": "stdout",
     "output_type": "stream",
     "text": [
      "Requirement already satisfied: Pillow in c:\\users\\jcjen\\anaconda3\\lib\\site-packages (9.2.0)\n",
      "Note: you may need to restart the kernel to use updated packages.\n"
     ]
    }
   ],
   "source": [
    "# Example Usage\n",
    "data = filtered_dataset\n",
    "export_file = 'data/exported_dataset.zip'\n",
    "crop_and_export_to_zip(export_file, data)"
   ]
  },
  {
   "cell_type": "code",
   "execution_count": null,
   "metadata": {},
   "outputs": [],
   "source": [
    "import random\n",
    "from tqdm.notebook import tqdm\n",
    "import json\n",
    "import zipfile\n",
    "import io\n",
    "\n",
    "def crop_and_export_to_zip(zip_filename, data, crop_size=(512, 512)):\n",
    "    '''\n",
    "    Helper function to crop and compress images for exporting into a smaller dataset\n",
    "    '''\n",
    "    # Create a zip file\n",
    "    with zipfile.ZipFile(zip_filename, 'w') as zip_file:\n",
    "        # Loop through all the images in the dataset\n",
    "        for i, row in tqdm(enumerate(data)):\n",
    "            # get the image\n",
    "            img = row['image']\n",
    "            # get the side information (everything in the row but the image)\n",
    "            side_info = row\n",
    "            side_info.pop('image')\n",
    "            image_filename = f\"cropped_image_{i}.jpg\"\n",
    "            json_filename = f\"cropped_image_{i}.json\"\n",
    "\n",
    "            # Get the dimensions of the image\n",
    "            img_width, img_height = img.size\n",
    "            \n",
    "            # define crop dimensions\n",
    "            crop_width, crop_height = crop_size\n",
    "\n",
    "            # Check if the image is smaller than the desired crop size\n",
    "            if img_width < crop_width or img_height < crop_height:\n",
    "                print(f\"Image {i} is too small for the desired crop size.\")\n",
    "                continue\n",
    "\n",
    "            # Calculate random position for the crop\n",
    "            left = random.randint(0, img_width - crop_width)\n",
    "            upper = random.randint(0, img_height - crop_height)\n",
    "\n",
    "            # Perform the crop\n",
    "            cropped_img = img.crop((left, upper, left + crop_width, upper + crop_height))\n",
    "\n",
    "            # Convert the cropped image to RGB\n",
    "            cropped_img = cropped_img.convert('RGB')\n",
    "\n",
    "            # Save the cropped image in JPEG format with optimization and reduced quality\n",
    "            img_bytes_io = io.BytesIO()\n",
    "            cropped_img.save(img_bytes_io, 'JPEG', optimize=True, quality=85)\n",
    "            img_bytes_io.seek(0)\n",
    "\n",
    "            # Write the cropped image bytes to the zip file\n",
    "            zip_file.writestr(image_filename, img_bytes_io.read())\n",
    "\n",
    "            # Write the side information to a JSON file and add it to the zip file\n",
    "            zip_file.writestr(json_filename, json.dumps(side_info))"
   ]
  }
 ],
 "metadata": {
  "kernelspec": {
   "display_name": "base",
   "language": "python",
   "name": "python3"
  },
  "language_info": {
   "codemirror_mode": {
    "name": "ipython",
    "version": 3
   },
   "file_extension": ".py",
   "mimetype": "text/x-python",
   "name": "python",
   "nbconvert_exporter": "python",
   "pygments_lexer": "ipython3",
   "version": "3.9.13"
  }
 },
 "nbformat": 4,
 "nbformat_minor": 2
}
