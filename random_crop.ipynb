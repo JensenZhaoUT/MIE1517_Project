{
 "cells": [
  {
   "cell_type": "code",
   "execution_count": 3,
   "metadata": {},
   "outputs": [
    {
     "name": "stdout",
     "output_type": "stream",
     "text": [
      "Requirement already satisfied: Pillow in c:\\users\\jcjen\\anaconda3\\lib\\site-packages (9.2.0)\n",
      "Note: you may need to restart the kernel to use updated packages.\n"
     ]
    }
   ],
   "source": [
    "pip install Pillow"
   ]
  },
  {
   "cell_type": "code",
   "execution_count": 4,
   "metadata": {},
   "outputs": [],
   "source": [
    "import os\n",
    "from PIL import Image\n",
    "import random\n",
    "\n",
    "def random_crop_images(directory, crop_size=(512, 512)):\n",
    "    # Check if the directory exists\n",
    "    if not os.path.exists(directory):\n",
    "        print(f\"Directory {directory} does not exist.\")\n",
    "        return\n",
    "\n",
    "    # Get all image files from the directory\n",
    "    image_files = [f for f in os.listdir(directory) if f.lower().endswith(('.png'))]\n",
    "\n",
    "    # Loop through all the images\n",
    "    for image_file in image_files:\n",
    "        # Open the image\n",
    "        with Image.open(os.path.join(directory, image_file)) as img:\n",
    "            # Get the dimensions of the image\n",
    "            img_width, img_height = img.size\n",
    "\n",
    "            # Ensure the crop size is not larger than the image\n",
    "            crop_width, crop_height = min(crop_size[0], img_width), min(crop_size[1], img_height)\n",
    "\n",
    "            # Check if the image is smaller than the desired crop size\n",
    "            if img_width < crop_width or img_height < crop_height:\n",
    "                print(f\"Image {image_file} is too small for the desired crop size.\")\n",
    "                continue\n",
    "\n",
    "            # Calculate random position for the crop\n",
    "            left = random.randint(0, img_width - crop_width)\n",
    "            upper = random.randint(0, img_height - crop_height)\n",
    "\n",
    "            # Perform the crop\n",
    "            cropped_img = img.crop((left, upper, left + crop_width, upper + crop_height))\n",
    "\n",
    "            # Save the cropped image with a new name\n",
    "            cropped_img.save(os.path.join(directory, f\"cropped_{image_file}\"))"
   ]
  }
 ],
 "metadata": {
  "kernelspec": {
   "display_name": "base",
   "language": "python",
   "name": "python3"
  },
  "language_info": {
   "codemirror_mode": {
    "name": "ipython",
    "version": 3
   },
   "file_extension": ".py",
   "mimetype": "text/x-python",
   "name": "python",
   "nbconvert_exporter": "python",
   "pygments_lexer": "ipython3",
   "version": "3.9.13"
  }
 },
 "nbformat": 4,
 "nbformat_minor": 2
}
