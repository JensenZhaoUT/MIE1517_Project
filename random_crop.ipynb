{
 "cells": [
  {
   "cell_type": "code",
   "execution_count": 3,
   "metadata": {},
   "outputs": [
    {
     "name": "stdout",
     "output_type": "stream",
     "text": [
      "Requirement already satisfied: Pillow in c:\\users\\jcjen\\anaconda3\\lib\\site-packages (9.2.0)\n",
      "Note: you may need to restart the kernel to use updated packages.\n"
     ]
    }
   ],
   "source": [
    "images = filtered_dataset['image']"
   ]
  },
  {
   "cell_type": "code",
   "execution_count": 4,
   "metadata": {},
   "outputs": [],
   "source": [
    "import os\n",
    "import random\n",
    "\n",
    "def random_crop_images(directory, images, crop_size=(512, 512)):\n",
    "    # Check if the directory exists\n",
    "    if not os.path.exists(directory):\n",
    "        print(f\"Directory {directory} does not exist.\")\n",
    "        return\n",
    "\n",
    "    # Loop through all the images in the dataset\n",
    "    for img in images:\n",
    "        # Get the dimensions of the image\n",
    "        img_width, img_height = img.size\n",
    "\n",
    "        # Ensure the crop size is not larger than the image\n",
    "        crop_width, crop_height = min(crop_size[0], img_width), min(crop_size[1], img_height)\n",
    "\n",
    "        # Check if the image is smaller than the desired crop size\n",
    "        if img_width < crop_width or img_height < crop_height:\n",
    "            print(\"Image is too small for the desired crop size.\")\n",
    "            continue\n",
    "\n",
    "        # Calculate random position for the crop\n",
    "        left = random.randint(0, img_width - crop_width)\n",
    "        upper = random.randint(0, img_height - crop_height)\n",
    "\n",
    "        # Perform the crop\n",
    "        cropped_img = img.crop((left, upper, left + crop_width, upper + crop_height))\n",
    "\n",
    "        # Convert the cropped image to RGB (to remove alpha channel for JPEG format)\n",
    "        cropped_img = cropped_img.convert('RGB')\n",
    "\n",
    "        # Generate a new filename for the cropped image\n",
    "        cropped_image_filename = 'cropped_image_' + str(random.randint(1, 999999))\n",
    "\n",
    "        # Save the cropped image in JPEG format with optimization and reduced quality\n",
    "        cropped_img.save(os.path.join(directory, cropped_image_filename), 'JPEG', optimize=True, quality=85)\n",
    "\n",
    "        # Delete the original PNG image\n",
    "        os.remove(os.path.join(directory, img))"
   ]
  }
 ],
 "metadata": {
  "kernelspec": {
   "display_name": "base",
   "language": "python",
   "name": "python3"
  },
  "language_info": {
   "codemirror_mode": {
    "name": "ipython",
    "version": 3
   },
   "file_extension": ".py",
   "mimetype": "text/x-python",
   "name": "python",
   "nbconvert_exporter": "python",
   "pygments_lexer": "ipython3",
   "version": "3.9.13"
  }
 },
 "nbformat": 4,
 "nbformat_minor": 2
}
