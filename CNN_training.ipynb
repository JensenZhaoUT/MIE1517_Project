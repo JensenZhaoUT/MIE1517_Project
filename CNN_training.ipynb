{
  "cells": [
    {
      "cell_type": "markdown",
      "metadata": {
        "id": "qS-0iGYEPG2R"
      },
      "source": [
        "# Config and Setup"
      ]
    },
    {
      "cell_type": "markdown",
      "metadata": {
        "id": "IVkRzyDmSLXx"
      },
      "source": [
        "## Imports"
      ]
    },
    {
      "cell_type": "code",
      "execution_count": 1,
      "metadata": {
        "id": "Eitj0VvCPGIJ"
      },
      "outputs": [
        {
          "ename": "ModuleNotFoundError",
          "evalue": "No module named 'google.colab'",
          "output_type": "error",
          "traceback": [
            "\u001b[1;31m---------------------------------------------------------------------------\u001b[0m",
            "\u001b[1;31mModuleNotFoundError\u001b[0m                       Traceback (most recent call last)",
            "\u001b[1;32mc:\\Users\\JCJen\\Desktop\\MIE1517\\Project\\MIE1517_Project\\CNN_training.ipynb Cell 3\u001b[0m line \u001b[0;36m<cell line: 2>\u001b[1;34m()\u001b[0m\n\u001b[0;32m      <a href='vscode-notebook-cell:/c%3A/Users/JCJen/Desktop/MIE1517/Project/MIE1517_Project/CNN_training.ipynb#X46sZmlsZQ%3D%3D?line=0'>1</a>\u001b[0m \u001b[39m# utils\u001b[39;00m\n\u001b[1;32m----> <a href='vscode-notebook-cell:/c%3A/Users/JCJen/Desktop/MIE1517/Project/MIE1517_Project/CNN_training.ipynb#X46sZmlsZQ%3D%3D?line=1'>2</a>\u001b[0m \u001b[39mfrom\u001b[39;00m \u001b[39mgoogle\u001b[39;00m\u001b[39m.\u001b[39;00m\u001b[39mcolab\u001b[39;00m \u001b[39mimport\u001b[39;00m drive\n\u001b[0;32m      <a href='vscode-notebook-cell:/c%3A/Users/JCJen/Desktop/MIE1517/Project/MIE1517_Project/CNN_training.ipynb#X46sZmlsZQ%3D%3D?line=2'>3</a>\u001b[0m \u001b[39mimport\u001b[39;00m \u001b[39mos\u001b[39;00m\n\u001b[0;32m      <a href='vscode-notebook-cell:/c%3A/Users/JCJen/Desktop/MIE1517/Project/MIE1517_Project/CNN_training.ipynb#X46sZmlsZQ%3D%3D?line=3'>4</a>\u001b[0m \u001b[39mimport\u001b[39;00m \u001b[39mrandom\u001b[39;00m\n",
            "\u001b[1;31mModuleNotFoundError\u001b[0m: No module named 'google.colab'"
          ]
        }
      ],
      "source": [
        "# utils\n",
        "from google.colab import drive\n",
        "import os\n",
        "import random\n",
        "from PIL import Image\n",
        "import matplotlib.pyplot as plt\n",
        "import pdb\n",
        "import numpy as np\n",
        "import pandas as pd\n",
        "\n",
        "# torch\n",
        "os.environ['CUDA_LAUNCH_BLOCKING'] = \"1\"\n",
        "import torch\n",
        "from torch.utils.data import Dataset, ConcatDataset\n",
        "from torch.utils.data import DataLoader\n",
        "from torchvision import transforms\n",
        "from torch.utils.data import random_split\n",
        "import torch.nn as nn\n",
        "import torch.nn.functional as F\n",
        "import torch.optim as optim\n",
        "from torchvision.io import read_image\n",
        "\n",
        "# sklearn\n",
        "from sklearn.metrics import classification_report, ConfusionMatrixDisplay, confusion_matrix\n",
        "from sklearn.metrics import accuracy_score\n",
        "from sklearn.metrics import balanced_accuracy_score"
      ]
    },
    {
      "cell_type": "markdown",
      "metadata": {
        "id": "jC3bdK4BE_7o"
      },
      "source": [
        "## Config"
      ]
    },
    {
      "cell_type": "code",
      "execution_count": null,
      "metadata": {
        "colab": {
          "base_uri": "https://localhost:8080/"
        },
        "id": "ZinDQcCfdHxb",
        "outputId": "e8cf801a-3234-4c27-d5f8-a9c5a1e5f046"
      },
      "outputs": [
        {
          "name": "stdout",
          "output_type": "stream",
          "text": [
            "cuda\n"
          ]
        }
      ],
      "source": [
        "# pytorch gpu config\n",
        "seed = 0\n",
        "torch.manual_seed(seed)\n",
        "if torch.cuda.is_available():\n",
        "  device = torch.device(\"cuda\")\n",
        "  torch.cuda.manual_seed_all(seed)\n",
        "else:\n",
        "  device = torch.device(\"cpu\")\n",
        "print(device)"
      ]
    },
    {
      "cell_type": "markdown",
      "metadata": {
        "id": "tP0e-wOZSM6n"
      },
      "source": [
        "## Downloading and Extracting Data\n",
        "The creation of these datasets is described in the following notebooks:\n",
        "*   [DiffusionDB Data](https://github.com/JensenZhaoUT/MIE1517_Project/blob/main/EDA%20-%20Generated.ipynb)\n",
        "*   [WikiArt Data](https://github.com/JensenZhaoUT/MIE1517_Project/blob/main/WikiArt%20EDA.ipynb)\n",
        "\n"
      ]
    },
    {
      "cell_type": "code",
      "execution_count": null,
      "metadata": {
        "colab": {
          "base_uri": "https://localhost:8080/"
        },
        "id": "aNv34aq2Q9Y3",
        "outputId": "1fb5ad52-7cc0-4ce4-d221-0fa93ba9c3ff"
      },
      "outputs": [],
      "source": [
        "# download the datasets to working directory\n",
        "!gdown 1M-RNViW7mhnedbFxwdrOIW5Y46Eri8sY # diffusiondb_256\n",
        "!gdown 1VVySTFhHVLipFTZoHKv3J9jokjMxXvBa # paintings_256\n",
        "\n",
        "# create directories for data and unzip archives\n",
        "!mkdir -p /content/diffusiondb\n",
        "!mkdir -p /content/wikiart\n",
        "!unzip -u /content/cropped_diffusiondb_256.zip -d /content/diffusiondb\n",
        "!unzip -u /content/cropped_paintings_256.zip -d /content/wikiart"
      ]
    },
    {
      "cell_type": "markdown",
      "metadata": {
        "id": "1CX8_DXASwBT"
      },
      "source": [
        "## Creating Custom Dataset"
      ]
    },
    {
      "cell_type": "code",
      "execution_count": null,
      "metadata": {},
      "outputs": [],
      "source": [
        "from PIL import Image\n",
        "import os\n",
        "import random\n",
        "import torch\n",
        "from torchvision import transforms\n",
        "from torch.utils.data import Dataset, ConcatDataset\n",
        "\n",
        "class CustomImageDataset(Dataset):\n",
        "    def __init__(self, directory, label, max_images=None):\n",
        "        self.directory = directory\n",
        "        self.label = label\n",
        "        all_images = [file for file in os.listdir(directory) if file.endswith('.jpg')]\n",
        "\n",
        "        # Filter images with resolution between 400 and 600\n",
        "        self.images = []\n",
        "        for img_file in all_images:\n",
        "            img_path = os.path.join(self.directory, img_file)\n",
        "            with Image.open(img_path) as img:\n",
        "                if 400 <= max(img.size) <= 600:\n",
        "                    self.images.append(img_file)\n",
        "\n",
        "        self.transform = transforms.ToTensor()  # Define the transform here\n",
        "\n",
        "        # If max_images is set, randomly select a subset of images\n",
        "        if max_images is not None and max_images <= len(self.images):\n",
        "            self.images = random.sample(self.images, max_images)\n",
        "\n",
        "    def __len__(self):\n",
        "        return len(self.images)\n",
        "\n",
        "    def __getitem__(self, idx):\n",
        "        img_path = os.path.join(self.directory, self.images[idx])\n",
        "        image = Image.open(img_path)\n",
        "        image = self.transform(image)  # Transform the image to a tensor\n",
        "        # load image with gpu if available\n",
        "        if torch.cuda.is_available():\n",
        "            image = image.to(torch.device('cuda:0'))\n",
        "        return image, self.label\n",
        "    \n",
        "\n",
        "# Determine the number of images in the smaller dataset\n",
        "num_images_in_smaller_dataset = len([file for file in os.listdir('/content/diffusiondb') if file.endswith('.jpg')])\n",
        "\n",
        "# for demonstration purposes, define smaller dataset size\n",
        "data_size = 800\n",
        "\n",
        "\n",
        "# Create dataset with true and false labels\n",
        "dataset_false = CustomImageDataset('/content/diffusiondb', 0, max_images=data_size)\n",
        "dataset_true = CustomImageDataset('/content/wikiart', 1, max_images=data_size) \n",
        "\n",
        "# Concat datasets into one\n",
        "combined_dataset = ConcatDataset([dataset_false, dataset_true])"
      ]
    },
    {
      "cell_type": "code",
      "execution_count": null,
      "metadata": {
        "id": "2xAVJpTbPGIN"
      },
      "outputs": [],
      "source": [
        "# class CustomImageDataset(Dataset):\n",
        "#     def __init__(self, directory, label, max_images=None):\n",
        "#         self.directory = directory\n",
        "#         self.label = label\n",
        "#         self.images = [file for file in os.listdir(directory) if file.endswith('.jpg')]\n",
        "#         self.transform = transforms.ToTensor()  # Define the transform here\n",
        "\n",
        "#         # If max_images is set, randomly select a subset of images\n",
        "#         if max_images is not None and max_images <= len(self.images):\n",
        "#             self.images = random.sample(self.images, max_images)\n",
        "\n",
        "#     def __len__(self):\n",
        "#         return len(self.images)\n",
        "\n",
        "#     def __getitem__(self, idx):\n",
        "#         img_path = os.path.join(self.directory, self.images[idx])\n",
        "#         image = Image.open(img_path)\n",
        "#         image = self.transform(image)  # Transform the image to a tensor\n",
        "#         # load image with gpu if available\n",
        "#         if torch.cuda.is_available():\n",
        "#             image = image.to(torch.device('cuda:0'))\n",
        "#         return image, self.label\n",
        "\n",
        "\n",
        "# # Determine the number of images in the smaller dataset\n",
        "# num_images_in_smaller_dataset = len([file for file in os.listdir('/content/diffusiondb') if file.endswith('.jpg')])\n",
        "\n",
        "# # for demonstration purposes, define smaller dataset size\n",
        "# data_size = 800\n",
        "\n",
        "\n",
        "# # Create dataset with true and false labels\n",
        "# dataset_false = CustomImageDataset('/content/diffusiondb', 0, max_images=data_size)\n",
        "# dataset_true = CustomImageDataset('/content/wikiart', 1, max_images=data_size) \n",
        "\n",
        "# # Concat datasets into one\n",
        "# combined_dataset = ConcatDataset([dataset_false, dataset_true])"
      ]
    },
    {
      "cell_type": "code",
      "execution_count": null,
      "metadata": {
        "colab": {
          "base_uri": "https://localhost:8080/"
        },
        "id": "uSTypFGmPGIO",
        "outputId": "b42bb119-4f5c-4437-8702-1e6915991d3e"
      },
      "outputs": [
        {
          "name": "stdout",
          "output_type": "stream",
          "text": [
            "Length of dataset: 1600\n"
          ]
        }
      ],
      "source": [
        "# Train-Validation-Test Split\n",
        "length_of_combined_dataset = len(combined_dataset)\n",
        "print(f'Length of dataset: {length_of_combined_dataset}')\n",
        "\n",
        "# define split size\n",
        "train_size = int(0.7 * length_of_combined_dataset)  # 70% for training\n",
        "val_size = int(0.1 * length_of_combined_dataset)   # 10% for validation\n",
        "test_size = length_of_combined_dataset - train_size - val_size  # Remaining 20% for testing\n",
        "\n",
        "# perform the split\n",
        "train_dataset, val_dataset, test_dataset = random_split(combined_dataset, [train_size, val_size, test_size])"
      ]
    },
    {
      "cell_type": "markdown",
      "metadata": {
        "id": "SH8AliyUFEHw"
      },
      "source": [
        "# Model"
      ]
    },
    {
      "cell_type": "markdown",
      "metadata": {
        "id": "r3I4v8xdFHOs"
      },
      "source": [
        "## Model Definition"
      ]
    },
    {
      "cell_type": "code",
      "execution_count": null,
      "metadata": {
        "id": "0nuH7dtRPGIO"
      },
      "outputs": [],
      "source": [
        "class MyConvNet(nn.Module):\n",
        "  def __init__(self, lr=0.01, criterion=nn.BCELoss):\n",
        "    super(MyConvNet, self).__init__()\n",
        "\n",
        "    # define params\n",
        "    self.lr = lr\n",
        "    self.criterion = criterion()\n",
        "\n",
        "\n",
        "    # build the encoder and classifier\n",
        "    self.encoder = self.build_encoder()\n",
        "    self.classifier = self.build_classifier()\n",
        "\n",
        "\n",
        "  def build_encoder(self):\n",
        "    encoder = nn.Sequential(\n",
        "      nn.Conv2d(in_channels = 3, out_channels = 8, kernel_size = 5, stride = 2, padding = 0), # (8,254,254) / (8,126,126)\n",
        "      nn.ReLU(),\n",
        "      nn.MaxPool2d(kernel_size = 4, stride = 1, padding = 0), # (8, 251, 251) / (8,123,123)\n",
        "      nn.Conv2d(in_channels = 8, out_channels = 10, kernel_size = 9, stride = 2, padding = 0), # (10,122,122) / (10,58,58)\n",
        "      nn.ReLU(),\n",
        "      nn.MaxPool2d(kernel_size = 4, stride = 1 , padding = 0), # (10, 119, 119) / (10,55,55)\n",
        "      )\n",
        "    return encoder\n",
        "\n",
        "  def build_classifier(self):\n",
        "    classifier = nn.Sequential(\n",
        "      nn.Flatten(start_dim=1),\n",
        "      nn.Linear(10*55**2, 128),\n",
        "      nn.ReLU(),\n",
        "      nn.Linear(128, 1),\n",
        "      nn.Sigmoid()\n",
        "    )\n",
        "    return classifier\n",
        "\n",
        "\n",
        "  def forward(self, img):\n",
        "    return self.classifier(self.encoder(img.to(torch.float)))\n",
        "\n",
        "  def train(self, data, val_data, n_epochs=20, batch_size=15, optimizer=torch.optim.Adam):\n",
        "    # read params and assign\n",
        "    self.batch_size = batch_size\n",
        "    train_loader = DataLoader(dataset=data, shuffle=True, batch_size=self.batch_size)\n",
        "    val_loader = DataLoader(dataset=val_data, shuffle=True, batch_size=self.batch_size)\n",
        "\n",
        "    # define optimizer\n",
        "    self.optimizer = optimizer(self.parameters(), lr = self.lr)\n",
        "    n_training_steps = len(train_loader)\n",
        "    n_val_steps = len(val_loader)\n",
        "\n",
        "\n",
        "    train_losses_epochs = []\n",
        "    val_losses_epochs = []\n",
        "\n",
        "    for epoch in range(n_epochs):\n",
        "      output = []\n",
        "      batch_accuracies = []\n",
        "      train_losses = []\n",
        "      # training loop\n",
        "      for i, (x_train, y_train) in enumerate(train_loader):\n",
        "        # fix typing of labels\n",
        "        y_train = y_train.type(torch.FloatTensor).unsqueeze(1)\n",
        "        # make sure we are using cuda\n",
        "        if torch.cuda.is_available():\n",
        "          x_train = x_train.to(torch.device('cuda:0'))\n",
        "          y_train = y_train.to(torch.device('cuda:0'))\n",
        "        # forward step\n",
        "        y_pred = self.forward(x_train)\n",
        "        # get loss\n",
        "        loss = self.criterion(y_pred, y_train)\n",
        "\n",
        "        # backprop\n",
        "        self.optimizer.zero_grad()\n",
        "        loss.backward()\n",
        "        self.optimizer.step()\n",
        "        # add outputs to list\n",
        "        output.append(y_pred)\n",
        "        # add loss to list\n",
        "        train_losses.append(loss.item())\n",
        "\n",
        "        # get accuracy\n",
        "        correct = (y_pred.round() == y_train).type(torch.float).sum().item()\n",
        "        accuracy_batch = 100*correct/len(x_train)\n",
        "        batch_accuracies.append(accuracy_batch)\n",
        "\n",
        "        # print batch info\n",
        "        if (i+1 == n_training_steps):\n",
        "          avg_loss = sum(train_losses)/len(train_losses)\n",
        "          # add average loss to training losses\n",
        "          train_losses_epochs.append(avg_loss)\n",
        "          # get accuracy of epoch\n",
        "          accuracy = sum(batch_accuracies)/len(batch_accuracies)\n",
        "          # print current epoch info\n",
        "          print(f'Epoch {epoch+1}/{n_epochs} : Train Accuracy: {accuracy:.2f}%, Avg Loss: {avg_loss:.4f}')\n",
        "\n",
        "\n",
        "      # validation loop\n",
        "      batch_accuracies = []\n",
        "      val_losses = []\n",
        "      for i, (x_val, y_val) in enumerate(val_loader):\n",
        "        # fix typing of labels\n",
        "        y_val = y_val.type(torch.FloatTensor).unsqueeze(1)\n",
        "        if torch.cuda.is_available():\n",
        "          x_val = x_val.to(torch.device('cuda:0'))\n",
        "          y_val = y_val.to(torch.device('cuda:0'))\n",
        "        # forward step\n",
        "        y_val_pred = self.forward(x_val)\n",
        "        # get loss\n",
        "        loss = self.criterion(y_val_pred, y_val)\n",
        "        # get accuracy\n",
        "        correct = (y_val_pred.round() == y_val).type(torch.float).sum().item()\n",
        "        accuracy_batch = 100*correct/len(x_val)\n",
        "        batch_accuracies.append(accuracy_batch)\n",
        "        val_losses.append(loss.item())\n",
        "\n",
        "        if (i+1 == n_val_steps):\n",
        "          # get loss and accuracy\n",
        "          avg_loss = sum(val_losses)/len(val_losses)\n",
        "          accuracy = sum(batch_accuracies)/len(batch_accuracies)\n",
        "          # add average loss to validation losses\n",
        "          val_losses_epochs.append(avg_loss)\n",
        "          print(f'Epoch {epoch+1}/{n_epochs} : Validation Accuracy: {accuracy:.2f}%, Validation Loss: {avg_loss:.4f}')\n",
        "\n",
        "\n",
        "\n",
        "    return train_losses_epochs, val_losses_epochs, output"
      ]
    },
    {
      "cell_type": "markdown",
      "metadata": {
        "id": "WWwWVVjmFKKw"
      },
      "source": [
        "## Model Training"
      ]
    },
    {
      "cell_type": "code",
      "execution_count": null,
      "metadata": {
        "colab": {
          "base_uri": "https://localhost:8080/"
        },
        "id": "XlVoNmMwPGIP",
        "outputId": "e19c17f5-d922-4403-879b-94bf31e27171"
      },
      "outputs": [
        {
          "name": "stdout",
          "output_type": "stream",
          "text": [
            "Epoch 1/8 : Train Accuracy: 63.55%, Avg Loss: 0.6523\n",
            "Epoch 1/8 : Validation Accuracy: 72.84%, Validation Loss: 0.6135\n",
            "Epoch 2/8 : Train Accuracy: 68.98%, Avg Loss: 0.6032\n",
            "Epoch 2/8 : Validation Accuracy: 70.99%, Validation Loss: 0.5801\n",
            "Epoch 3/8 : Train Accuracy: 69.79%, Avg Loss: 0.5729\n",
            "Epoch 3/8 : Validation Accuracy: 72.84%, Validation Loss: 0.5745\n",
            "Epoch 4/8 : Train Accuracy: 71.75%, Avg Loss: 0.5486\n",
            "Epoch 4/8 : Validation Accuracy: 69.14%, Validation Loss: 0.6055\n",
            "Epoch 5/8 : Train Accuracy: 73.62%, Avg Loss: 0.5262\n",
            "Epoch 5/8 : Validation Accuracy: 72.22%, Validation Loss: 0.5763\n",
            "Epoch 6/8 : Train Accuracy: 73.89%, Avg Loss: 0.5105\n",
            "Epoch 6/8 : Validation Accuracy: 74.07%, Validation Loss: 0.5310\n",
            "Epoch 7/8 : Train Accuracy: 77.45%, Avg Loss: 0.4878\n",
            "Epoch 7/8 : Validation Accuracy: 70.99%, Validation Loss: 0.5841\n",
            "Epoch 8/8 : Train Accuracy: 77.27%, Avg Loss: 0.4785\n",
            "Epoch 8/8 : Validation Accuracy: 73.46%, Validation Loss: 0.5489\n",
            "Finished Training\n"
          ]
        }
      ],
      "source": [
        "# init net\n",
        "net = MyConvNet(lr=0.0005)\n",
        "# use gpu if available\n",
        "if torch.cuda.is_available():\n",
        "  net = net.to(torch.device('cuda:0'))\n",
        "# training loop\n",
        "train_losses, val_losses, output = net.train(train_dataset, val_dataset, batch_size=3, n_epochs=8)\n",
        "print('Finished Training')"
      ]
    },
    {
      "cell_type": "markdown",
      "metadata": {
        "id": "Zps17Y-0FNy3"
      },
      "source": [
        "### Training Visualization"
      ]
    },
    {
      "cell_type": "code",
      "execution_count": null,
      "metadata": {
        "colab": {
          "base_uri": "https://localhost:8080/",
          "height": 452
        },
        "id": "hx50inHwEZU2",
        "outputId": "6aebff76-67cf-44c8-b0b5-84f3f93ef6b3"
      },
      "outputs": [
        {
          "data": {
            "image/png": "[encoded data removed]",
            "text/plain": [
              "<Figure size 640x480 with 1 Axes>"
            ]
          },
          "metadata": {},
          "output_type": "display_data"
        }
      ],
      "source": [
        "# plot the training and validation losses\n",
        "plt.plot(train_losses, label='Training Loss')\n",
        "plt.plot(val_losses, label='Validation Loss')\n",
        "\n",
        "# add title and legend\n",
        "plt.legend()\n",
        "plt.title('Training and Validation Losses')\n",
        "\n",
        "# display plot\n",
        "plt.show()"
      ]
    },
    {
      "cell_type": "markdown",
      "metadata": {
        "id": "_duHJfkxFRfH"
      },
      "source": [
        "## Model Evaluation"
      ]
    },
    {
      "cell_type": "code",
      "execution_count": null,
      "metadata": {
        "colab": {
          "base_uri": "https://localhost:8080/"
        },
        "id": "yzSn6HQaZ6Cw",
        "outputId": "0829e663-b037-499e-dc0c-3e9c40c50c9e"
      },
      "outputs": [
        {
          "name": "stdout",
          "output_type": "stream",
          "text": [
            "Test Accuracy: 73.12%\n"
          ]
        }
      ],
      "source": [
        "test_loader = DataLoader(test_dataset, batch_size=len(test_dataset), shuffle=True)\n",
        "\n",
        "batch_accuracies = []\n",
        "# test loop\n",
        "for x_test, y_test in test_loader:\n",
        "  # fix typing of labels\n",
        "  y_test = y_test.type(torch.FloatTensor).unsqueeze(1)\n",
        "  if torch.cuda.is_available():\n",
        "    x_test = x_test.to(torch.device('cuda:0'))\n",
        "    y_test = y_test.to(torch.device('cuda:0'))\n",
        "  y_pred = net.forward(x_test)\n",
        "  correct = (y_pred.round() == y_test).type(torch.float).sum().item()\n",
        "  accuracy_batch = 100*correct/len(x_test)\n",
        "  batch_accuracies.append(accuracy_batch)\n",
        "\n",
        "print(f'Test Accuracy: {sum(batch_accuracies)/len(batch_accuracies):.2f}%')"
      ]
    },
    {
      "cell_type": "code",
      "execution_count": null,
      "metadata": {
        "id": "T7EJtV5XbVzT"
      },
      "outputs": [],
      "source": [
        "# get test predictions and labels\n",
        "test_preds = np.round(y_pred.cpu().detach().numpy())\n",
        "test_labels = y_test.cpu().detach().numpy()"
      ]
    },
    {
      "cell_type": "code",
      "execution_count": null,
      "metadata": {
        "colab": {
          "base_uri": "https://localhost:8080/",
          "height": 646
        },
        "id": "PGH4QuDFbo5M",
        "outputId": "721d9729-2f72-4ed6-955c-82abe8f15912"
      },
      "outputs": [
        {
          "data": {
            "image/png": "[encoded data removed]",
            "text/plain": [
              "<Figure size 640x480 with 2 Axes>"
            ]
          },
          "metadata": {},
          "output_type": "display_data"
        },
        {
          "name": "stdout",
          "output_type": "stream",
          "text": [
            "Classification Report:\n",
            "               precision    recall  f1-score   support\n",
            "\n",
            "         0.0       0.85      0.60      0.71       172\n",
            "         1.0       0.66      0.88      0.75       148\n",
            "\n",
            "    accuracy                           0.73       320\n",
            "   macro avg       0.75      0.74      0.73       320\n",
            "weighted avg       0.76      0.73      0.73       320\n",
            "\n"
          ]
        }
      ],
      "source": [
        "# create confusion matrix\n",
        "cm = confusion_matrix(test_labels, test_preds)\n",
        "\n",
        "# display confusion matrix\n",
        "disp = ConfusionMatrixDisplay(confusion_matrix=cm, display_labels=[\"AI-generated\", \"Human-generated\"])\n",
        "disp.plot(cmap=plt.cm.Blues, values_format=\"d\")\n",
        "plt.title(\"Confusion Matrix\")\n",
        "plt.show()\n",
        "\n",
        "# display classification report\n",
        "report = classification_report(test_labels, test_preds)\n",
        "print(\"Classification Report:\\n\", report)"
      ]
    }
  ],
  "metadata": {
    "accelerator": "GPU",
    "colab": {
      "gpuType": "V100",
      "provenance": []
    },
    "kernelspec": {
      "display_name": "Python 3",
      "name": "python3"
    },
    "language_info": {
      "codemirror_mode": {
        "name": "ipython",
        "version": 3
      },
      "file_extension": ".py",
      "mimetype": "text/x-python",
      "name": "python",
      "nbconvert_exporter": "python",
      "pygments_lexer": "ipython3",
      "version": "3.9.13"
    }
  },
  "nbformat": 4,
  "nbformat_minor": 0
}
